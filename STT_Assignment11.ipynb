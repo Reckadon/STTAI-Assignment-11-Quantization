{
  "nbformat": 4,
  "nbformat_minor": 0,
  "metadata": {
    "colab": {
      "provenance": [],
      "gpuType": "T4"
    },
    "kernelspec": {
      "name": "python3",
      "display_name": "Python 3"
    },
    "language_info": {
      "name": "python"
    },
    "accelerator": "GPU"
  },
  "cells": [
    {
      "cell_type": "markdown",
      "source": [
        "# STTAI - Lab Assignment 11\n",
        "\n",
        "Name | Roll Number\n",
        "---|---\n",
        "Romit Mohane | 23110279\n",
        "Rudra Pratap Singh | 23110281\n",
        "\n",
        "This assignment aims to learn about model quantization."
      ],
      "metadata": {
        "id": "J6DfW8Bks1ve"
      }
    },
    {
      "cell_type": "code",
      "source": [
        "import torch\n",
        "import torch.nn as nn\n",
        "import torch.optim as optim\n",
        "from torch.utils.data import DataLoader, TensorDataset\n",
        "import numpy as np\n",
        "import pandas as pd\n",
        "from sklearn.model_selection import train_test_split as tts\n",
        "from sklearn.feature_extraction.text import CountVectorizer\n",
        "from matplotlib import pyplot as plt"
      ],
      "metadata": {
        "id": "X2Jboy2puYu5"
      },
      "execution_count": 11,
      "outputs": []
    },
    {
      "cell_type": "markdown",
      "source": [
        "### 1. Dataset Preparation"
      ],
      "metadata": {
        "id": "i5P7Mrf3t8NU"
      }
    },
    {
      "cell_type": "code",
      "execution_count": 2,
      "metadata": {
        "colab": {
          "base_uri": "https://localhost:8080/"
        },
        "collapsed": true,
        "id": "NQyiCBp8sfMb",
        "outputId": "94439cab-9204-408b-d006-2c747c783281"
      },
      "outputs": [
        {
          "output_type": "stream",
          "name": "stdout",
          "text": [
            "--2025-04-19 20:08:10--  https://raw.githubusercontent.com/clairett/pytorch-sentiment-classification/master/data/SST2/train.tsv\n",
            "Resolving raw.githubusercontent.com (raw.githubusercontent.com)... 185.199.108.133, 185.199.109.133, 185.199.110.133, ...\n",
            "Connecting to raw.githubusercontent.com (raw.githubusercontent.com)|185.199.108.133|:443... connected.\n",
            "HTTP request sent, awaiting response... 200 OK\n",
            "Length: 720259 (703K) [text/plain]\n",
            "Saving to: ‘train.tsv’\n",
            "\n",
            "train.tsv           100%[===================>] 703.38K  --.-KB/s    in 0.02s   \n",
            "\n",
            "2025-04-19 20:08:10 (35.7 MB/s) - ‘train.tsv’ saved [720259/720259]\n",
            "\n",
            "--2025-04-19 20:08:11--  https://raw.githubusercontent.com/clairett/pytorch-sentiment-classification/master/data/SST2/test.tsv\n",
            "Resolving raw.githubusercontent.com (raw.githubusercontent.com)... 185.199.108.133, 185.199.111.133, 185.199.110.133, ...\n",
            "Connecting to raw.githubusercontent.com (raw.githubusercontent.com)|185.199.108.133|:443... connected.\n",
            "HTTP request sent, awaiting response... 200 OK\n",
            "Length: 188749 (184K) [text/plain]\n",
            "Saving to: ‘test.tsv’\n",
            "\n",
            "test.tsv            100%[===================>] 184.33K  --.-KB/s    in 0.01s   \n",
            "\n",
            "2025-04-19 20:08:11 (15.8 MB/s) - ‘test.tsv’ saved [188749/188749]\n",
            "\n"
          ]
        }
      ],
      "source": [
        "!wget https://raw.githubusercontent.com/clairett/pytorch-sentiment-classification/master/data/SST2/train.tsv\n",
        "!wget https://raw.githubusercontent.com/clairett/pytorch-sentiment-classification/master/data/SST2/test.tsv"
      ]
    },
    {
      "cell_type": "markdown",
      "source": [
        "> Load the training dataset and test data."
      ],
      "metadata": {
        "id": "vVuU4KEluqqk"
      }
    },
    {
      "cell_type": "code",
      "source": [
        "train_df = pd.read_csv('train.tsv', header= None, sep='\\t')\n",
        "test_df = pd.read_csv('test.tsv', header=None, sep='\\t')\n",
        "train_df.columns = ['sentence', 'label',]\n",
        "test_df.columns = ['sentence', 'label',]\n",
        "\n",
        "train_df.head()"
      ],
      "metadata": {
        "colab": {
          "base_uri": "https://localhost:8080/",
          "height": 206
        },
        "id": "sT0z43LRuTL8",
        "outputId": "5c96e62e-39fc-41e3-b85a-87a13fa9573a"
      },
      "execution_count": 3,
      "outputs": [
        {
          "output_type": "execute_result",
          "data": {
            "text/plain": [
              "                                            sentence  label\n",
              "0  a stirring , funny and finally transporting re...      1\n",
              "1  apparently reassembled from the cutting room f...      0\n",
              "2  they presume their audience wo n't sit still f...      0\n",
              "3  this is a visually stunning rumination on love...      1\n",
              "4  jonathan parker 's bartleby should have been t...      1"
            ],
            "text/html": [
              "\n",
              "  <div id=\"df-eaf3c300-52c2-48ce-8604-6701ee57613c\" class=\"colab-df-container\">\n",
              "    <div>\n",
              "<style scoped>\n",
              "    .dataframe tbody tr th:only-of-type {\n",
              "        vertical-align: middle;\n",
              "    }\n",
              "\n",
              "    .dataframe tbody tr th {\n",
              "        vertical-align: top;\n",
              "    }\n",
              "\n",
              "    .dataframe thead th {\n",
              "        text-align: right;\n",
              "    }\n",
              "</style>\n",
              "<table border=\"1\" class=\"dataframe\">\n",
              "  <thead>\n",
              "    <tr style=\"text-align: right;\">\n",
              "      <th></th>\n",
              "      <th>sentence</th>\n",
              "      <th>label</th>\n",
              "    </tr>\n",
              "  </thead>\n",
              "  <tbody>\n",
              "    <tr>\n",
              "      <th>0</th>\n",
              "      <td>a stirring , funny and finally transporting re...</td>\n",
              "      <td>1</td>\n",
              "    </tr>\n",
              "    <tr>\n",
              "      <th>1</th>\n",
              "      <td>apparently reassembled from the cutting room f...</td>\n",
              "      <td>0</td>\n",
              "    </tr>\n",
              "    <tr>\n",
              "      <th>2</th>\n",
              "      <td>they presume their audience wo n't sit still f...</td>\n",
              "      <td>0</td>\n",
              "    </tr>\n",
              "    <tr>\n",
              "      <th>3</th>\n",
              "      <td>this is a visually stunning rumination on love...</td>\n",
              "      <td>1</td>\n",
              "    </tr>\n",
              "    <tr>\n",
              "      <th>4</th>\n",
              "      <td>jonathan parker 's bartleby should have been t...</td>\n",
              "      <td>1</td>\n",
              "    </tr>\n",
              "  </tbody>\n",
              "</table>\n",
              "</div>\n",
              "    <div class=\"colab-df-buttons\">\n",
              "\n",
              "  <div class=\"colab-df-container\">\n",
              "    <button class=\"colab-df-convert\" onclick=\"convertToInteractive('df-eaf3c300-52c2-48ce-8604-6701ee57613c')\"\n",
              "            title=\"Convert this dataframe to an interactive table.\"\n",
              "            style=\"display:none;\">\n",
              "\n",
              "  <svg xmlns=\"http://www.w3.org/2000/svg\" height=\"24px\" viewBox=\"0 -960 960 960\">\n",
              "    <path d=\"M120-120v-720h720v720H120Zm60-500h600v-160H180v160Zm220 220h160v-160H400v160Zm0 220h160v-160H400v160ZM180-400h160v-160H180v160Zm440 0h160v-160H620v160ZM180-180h160v-160H180v160Zm440 0h160v-160H620v160Z\"/>\n",
              "  </svg>\n",
              "    </button>\n",
              "\n",
              "  <style>\n",
              "    .colab-df-container {\n",
              "      display:flex;\n",
              "      gap: 12px;\n",
              "    }\n",
              "\n",
              "    .colab-df-convert {\n",
              "      background-color: #E8F0FE;\n",
              "      border: none;\n",
              "      border-radius: 50%;\n",
              "      cursor: pointer;\n",
              "      display: none;\n",
              "      fill: #1967D2;\n",
              "      height: 32px;\n",
              "      padding: 0 0 0 0;\n",
              "      width: 32px;\n",
              "    }\n",
              "\n",
              "    .colab-df-convert:hover {\n",
              "      background-color: #E2EBFA;\n",
              "      box-shadow: 0px 1px 2px rgba(60, 64, 67, 0.3), 0px 1px 3px 1px rgba(60, 64, 67, 0.15);\n",
              "      fill: #174EA6;\n",
              "    }\n",
              "\n",
              "    .colab-df-buttons div {\n",
              "      margin-bottom: 4px;\n",
              "    }\n",
              "\n",
              "    [theme=dark] .colab-df-convert {\n",
              "      background-color: #3B4455;\n",
              "      fill: #D2E3FC;\n",
              "    }\n",
              "\n",
              "    [theme=dark] .colab-df-convert:hover {\n",
              "      background-color: #434B5C;\n",
              "      box-shadow: 0px 1px 3px 1px rgba(0, 0, 0, 0.15);\n",
              "      filter: drop-shadow(0px 1px 2px rgba(0, 0, 0, 0.3));\n",
              "      fill: #FFFFFF;\n",
              "    }\n",
              "  </style>\n",
              "\n",
              "    <script>\n",
              "      const buttonEl =\n",
              "        document.querySelector('#df-eaf3c300-52c2-48ce-8604-6701ee57613c button.colab-df-convert');\n",
              "      buttonEl.style.display =\n",
              "        google.colab.kernel.accessAllowed ? 'block' : 'none';\n",
              "\n",
              "      async function convertToInteractive(key) {\n",
              "        const element = document.querySelector('#df-eaf3c300-52c2-48ce-8604-6701ee57613c');\n",
              "        const dataTable =\n",
              "          await google.colab.kernel.invokeFunction('convertToInteractive',\n",
              "                                                    [key], {});\n",
              "        if (!dataTable) return;\n",
              "\n",
              "        const docLinkHtml = 'Like what you see? Visit the ' +\n",
              "          '<a target=\"_blank\" href=https://colab.research.google.com/notebooks/data_table.ipynb>data table notebook</a>'\n",
              "          + ' to learn more about interactive tables.';\n",
              "        element.innerHTML = '';\n",
              "        dataTable['output_type'] = 'display_data';\n",
              "        await google.colab.output.renderOutput(dataTable, element);\n",
              "        const docLink = document.createElement('div');\n",
              "        docLink.innerHTML = docLinkHtml;\n",
              "        element.appendChild(docLink);\n",
              "      }\n",
              "    </script>\n",
              "  </div>\n",
              "\n",
              "\n",
              "<div id=\"df-740221ba-331f-47af-8945-b4fc72cd21a0\">\n",
              "  <button class=\"colab-df-quickchart\" onclick=\"quickchart('df-740221ba-331f-47af-8945-b4fc72cd21a0')\"\n",
              "            title=\"Suggest charts\"\n",
              "            style=\"display:none;\">\n",
              "\n",
              "<svg xmlns=\"http://www.w3.org/2000/svg\" height=\"24px\"viewBox=\"0 0 24 24\"\n",
              "     width=\"24px\">\n",
              "    <g>\n",
              "        <path d=\"M19 3H5c-1.1 0-2 .9-2 2v14c0 1.1.9 2 2 2h14c1.1 0 2-.9 2-2V5c0-1.1-.9-2-2-2zM9 17H7v-7h2v7zm4 0h-2V7h2v10zm4 0h-2v-4h2v4z\"/>\n",
              "    </g>\n",
              "</svg>\n",
              "  </button>\n",
              "\n",
              "<style>\n",
              "  .colab-df-quickchart {\n",
              "      --bg-color: #E8F0FE;\n",
              "      --fill-color: #1967D2;\n",
              "      --hover-bg-color: #E2EBFA;\n",
              "      --hover-fill-color: #174EA6;\n",
              "      --disabled-fill-color: #AAA;\n",
              "      --disabled-bg-color: #DDD;\n",
              "  }\n",
              "\n",
              "  [theme=dark] .colab-df-quickchart {\n",
              "      --bg-color: #3B4455;\n",
              "      --fill-color: #D2E3FC;\n",
              "      --hover-bg-color: #434B5C;\n",
              "      --hover-fill-color: #FFFFFF;\n",
              "      --disabled-bg-color: #3B4455;\n",
              "      --disabled-fill-color: #666;\n",
              "  }\n",
              "\n",
              "  .colab-df-quickchart {\n",
              "    background-color: var(--bg-color);\n",
              "    border: none;\n",
              "    border-radius: 50%;\n",
              "    cursor: pointer;\n",
              "    display: none;\n",
              "    fill: var(--fill-color);\n",
              "    height: 32px;\n",
              "    padding: 0;\n",
              "    width: 32px;\n",
              "  }\n",
              "\n",
              "  .colab-df-quickchart:hover {\n",
              "    background-color: var(--hover-bg-color);\n",
              "    box-shadow: 0 1px 2px rgba(60, 64, 67, 0.3), 0 1px 3px 1px rgba(60, 64, 67, 0.15);\n",
              "    fill: var(--button-hover-fill-color);\n",
              "  }\n",
              "\n",
              "  .colab-df-quickchart-complete:disabled,\n",
              "  .colab-df-quickchart-complete:disabled:hover {\n",
              "    background-color: var(--disabled-bg-color);\n",
              "    fill: var(--disabled-fill-color);\n",
              "    box-shadow: none;\n",
              "  }\n",
              "\n",
              "  .colab-df-spinner {\n",
              "    border: 2px solid var(--fill-color);\n",
              "    border-color: transparent;\n",
              "    border-bottom-color: var(--fill-color);\n",
              "    animation:\n",
              "      spin 1s steps(1) infinite;\n",
              "  }\n",
              "\n",
              "  @keyframes spin {\n",
              "    0% {\n",
              "      border-color: transparent;\n",
              "      border-bottom-color: var(--fill-color);\n",
              "      border-left-color: var(--fill-color);\n",
              "    }\n",
              "    20% {\n",
              "      border-color: transparent;\n",
              "      border-left-color: var(--fill-color);\n",
              "      border-top-color: var(--fill-color);\n",
              "    }\n",
              "    30% {\n",
              "      border-color: transparent;\n",
              "      border-left-color: var(--fill-color);\n",
              "      border-top-color: var(--fill-color);\n",
              "      border-right-color: var(--fill-color);\n",
              "    }\n",
              "    40% {\n",
              "      border-color: transparent;\n",
              "      border-right-color: var(--fill-color);\n",
              "      border-top-color: var(--fill-color);\n",
              "    }\n",
              "    60% {\n",
              "      border-color: transparent;\n",
              "      border-right-color: var(--fill-color);\n",
              "    }\n",
              "    80% {\n",
              "      border-color: transparent;\n",
              "      border-right-color: var(--fill-color);\n",
              "      border-bottom-color: var(--fill-color);\n",
              "    }\n",
              "    90% {\n",
              "      border-color: transparent;\n",
              "      border-bottom-color: var(--fill-color);\n",
              "    }\n",
              "  }\n",
              "</style>\n",
              "\n",
              "  <script>\n",
              "    async function quickchart(key) {\n",
              "      const quickchartButtonEl =\n",
              "        document.querySelector('#' + key + ' button');\n",
              "      quickchartButtonEl.disabled = true;  // To prevent multiple clicks.\n",
              "      quickchartButtonEl.classList.add('colab-df-spinner');\n",
              "      try {\n",
              "        const charts = await google.colab.kernel.invokeFunction(\n",
              "            'suggestCharts', [key], {});\n",
              "      } catch (error) {\n",
              "        console.error('Error during call to suggestCharts:', error);\n",
              "      }\n",
              "      quickchartButtonEl.classList.remove('colab-df-spinner');\n",
              "      quickchartButtonEl.classList.add('colab-df-quickchart-complete');\n",
              "    }\n",
              "    (() => {\n",
              "      let quickchartButtonEl =\n",
              "        document.querySelector('#df-740221ba-331f-47af-8945-b4fc72cd21a0 button');\n",
              "      quickchartButtonEl.style.display =\n",
              "        google.colab.kernel.accessAllowed ? 'block' : 'none';\n",
              "    })();\n",
              "  </script>\n",
              "</div>\n",
              "\n",
              "    </div>\n",
              "  </div>\n"
            ],
            "application/vnd.google.colaboratory.intrinsic+json": {
              "type": "dataframe",
              "variable_name": "train_df",
              "summary": "{\n  \"name\": \"train_df\",\n  \"rows\": 6920,\n  \"fields\": [\n    {\n      \"column\": \"sentence\",\n      \"properties\": {\n        \"dtype\": \"string\",\n        \"num_unique_values\": 6911,\n        \"samples\": [\n          \"a loud , brash and mainly unfunny high school comedy\",\n          \"the real star of this movie is the score , as in the songs translate well to film , and it 's really well directed\",\n          \"rosenthal lrb halloween ii rrb seems to have forgotten everything he ever knew about generating suspense\"\n        ],\n        \"semantic_type\": \"\",\n        \"description\": \"\"\n      }\n    },\n    {\n      \"column\": \"label\",\n      \"properties\": {\n        \"dtype\": \"number\",\n        \"std\": 0,\n        \"min\": 0,\n        \"max\": 1,\n        \"num_unique_values\": 2,\n        \"samples\": [\n          0,\n          1\n        ],\n        \"semantic_type\": \"\",\n        \"description\": \"\"\n      }\n    }\n  ]\n}"
            }
          },
          "metadata": {},
          "execution_count": 3
        }
      ]
    },
    {
      "cell_type": "code",
      "source": [
        "train_df['label'].plot(kind='hist', bins=20, title='label')\n",
        "plt.gca().spines[['top', 'right',]].set_visible(False)"
      ],
      "metadata": {
        "colab": {
          "base_uri": "https://localhost:8080/",
          "height": 452
        },
        "id": "FaC_vwFvvoW2",
        "outputId": "2c849056-07b9-4f84-9e29-1ffb73a38019"
      },
      "execution_count": 4,
      "outputs": [
        {
          "output_type": "display_data",
          "data": {
            "text/plain": [
              "<Figure size 640x480 with 1 Axes>"
            ],
            "image/png": "[encoded data removed]"
          },
          "metadata": {}
        }
      ]
    },
    {
      "cell_type": "code",
      "source": [
        "train_df['sentence'].str.len().plot(kind='hist', bins=20, title='Sentence lengths')\n",
        "plt.gca().spines[['top', 'right',]].set_visible(False)"
      ],
      "metadata": {
        "colab": {
          "base_uri": "https://localhost:8080/",
          "height": 452
        },
        "id": "S8034cXyvv_y",
        "outputId": "429f3623-483a-4bb0-8e78-b4ac602c598e"
      },
      "execution_count": 5,
      "outputs": [
        {
          "output_type": "display_data",
          "data": {
            "text/plain": [
              "<Figure size 640x480 with 1 Axes>"
            ],
            "image/png": "[encoded data removed]"
          },
          "metadata": {}
        }
      ]
    },
    {
      "cell_type": "markdown",
      "source": [
        "> Use 20% of the training dataset as the validation set.\n"
      ],
      "metadata": {
        "id": "Of2-5dZjusno"
      }
    },
    {
      "cell_type": "code",
      "source": [
        "train_df, val_df = tts(train_df, test_size=0.2)\n",
        "\n",
        "train_df.shape, val_df.shape, test_df.shape"
      ],
      "metadata": {
        "id": "wwG4P_Wwupyj",
        "colab": {
          "base_uri": "https://localhost:8080/"
        },
        "outputId": "08363c34-8f1a-4838-bc4f-2b88631bac7c"
      },
      "execution_count": 6,
      "outputs": [
        {
          "output_type": "execute_result",
          "data": {
            "text/plain": [
              "((5536, 2), (1384, 2), (1821, 2))"
            ]
          },
          "metadata": {},
          "execution_count": 6
        }
      ]
    },
    {
      "cell_type": "markdown",
      "source": [
        "### 2. Construct a Multi-Layer Perceptron (MLP) model."
      ],
      "metadata": {
        "id": "On4ksi8duNwh"
      }
    },
    {
      "cell_type": "code",
      "source": [
        "# Initialize Bag-of-Words vectorizer\n",
        "vectorizer = CountVectorizer(max_features=10000)\n",
        "X_train = vectorizer.fit_transform(train_df['sentence']).toarray()\n",
        "X_val = vectorizer.transform(val_df['sentence']).toarray()\n",
        "y_train = train_df['label'].values\n",
        "y_val = val_df['label'].values\n",
        "\n",
        "print(\"X_train shape:\", X_train.shape)\n",
        "print(\"X_val shape:\", X_val.shape)"
      ],
      "metadata": {
        "colab": {
          "base_uri": "https://localhost:8080/"
        },
        "id": "ObmUqMhhuxmV",
        "outputId": "93548a06-824d-4518-95e9-9e339178eece"
      },
      "execution_count": 7,
      "outputs": [
        {
          "output_type": "stream",
          "name": "stdout",
          "text": [
            "X_train shape: (5536, 10000)\n",
            "X_val shape: (1384, 10000)\n"
          ]
        }
      ]
    },
    {
      "cell_type": "code",
      "source": [
        "class MLP(nn.Module):\n",
        "    def __init__(self, input_dim, hidden_1=512,hidden_2=256,hidden_3=128,hidden_4=64, output_dim=2):\n",
        "        super(MLP, self).__init__()\n",
        "        self.fc1 = nn.Linear(input_dim, hidden_1)\n",
        "        self.fc2 = nn.Linear(hidden_1, hidden_2)\n",
        "        self.fc3 = nn.Linear(hidden_2, hidden_3)\n",
        "        self.fc4 = nn.Linear(hidden_3, hidden_4)\n",
        "        self.fc5 = nn.Linear(hidden_4, output_dim)\n",
        "        self.relu = nn.ReLU()\n",
        "        self.dropout = nn.Dropout(0.3)\n",
        "\n",
        "    def forward(self, x):\n",
        "        x = self.fc1(x)\n",
        "        x = self.relu(x)\n",
        "        x = self.dropout(x)\n",
        "        x = self.fc2(x)\n",
        "        x = self.relu(x)\n",
        "        x = self.dropout(x)\n",
        "        x = self.fc3(x)\n",
        "        x = self.relu(x)\n",
        "        x = self.dropout(x)\n",
        "        x = self.fc4(x)\n",
        "        x = self.relu(x)\n",
        "        x = self.dropout(x)\n",
        "        x = self.fc5(x)\n",
        "        return x\n"
      ],
      "metadata": {
        "id": "2aHmAAepqbWh"
      },
      "execution_count": 8,
      "outputs": []
    },
    {
      "cell_type": "markdown",
      "source": [
        "Count the number of trainable parameters in the model using the automated function."
      ],
      "metadata": {
        "id": "biOsl5f5ti5b"
      }
    },
    {
      "cell_type": "code",
      "source": [
        "model = MLP(input_dim=10000)\n",
        "\n",
        "# Count trainable parameters\n",
        "num_params = sum(p.numel() for p in model.parameters() if p.requires_grad)\n",
        "\n",
        "print(f\"Total trainable parameters: {num_params:,}\")\n"
      ],
      "metadata": {
        "colab": {
          "base_uri": "https://localhost:8080/"
        },
        "id": "-_1LwcmNqham",
        "outputId": "4003ace8-488a-42fd-e8c6-441a01a4ad5a"
      },
      "execution_count": 9,
      "outputs": [
        {
          "output_type": "stream",
          "name": "stdout",
          "text": [
            "Total trainable parameters: 5,293,122\n"
          ]
        }
      ]
    },
    {
      "cell_type": "markdown",
      "source": [
        "### 3. Train the model with 10 epochs and create the best-performing model (checkpoint.pt)"
      ],
      "metadata": {
        "id": "dpP9uc_dtkyF"
      }
    },
    {
      "cell_type": "code",
      "source": [
        "X_train_tensor = torch.tensor(X_train, dtype=torch.float32)\n",
        "X_val_tensor = torch.tensor(X_val, dtype=torch.float32)\n",
        "y_train_tensor = torch.tensor(y_train, dtype=torch.long)\n",
        "y_val_tensor = torch.tensor(y_val, dtype=torch.long)\n",
        "\n",
        "train_dataset = TensorDataset(X_train_tensor, y_train_tensor)\n",
        "val_dataset = TensorDataset(X_val_tensor, y_val_tensor)\n",
        "\n",
        "train_loader = DataLoader(train_dataset, batch_size=64, shuffle=True)\n",
        "val_loader = DataLoader(val_dataset, batch_size=64)"
      ],
      "metadata": {
        "id": "HDR27rhRtcfS"
      },
      "execution_count": 13,
      "outputs": []
    },
    {
      "cell_type": "markdown",
      "source": [
        "Plot the validation accuracy + loss (epochs vs accuracy-loss)."
      ],
      "metadata": {
        "id": "0iLoJY5EuL0a"
      }
    },
    {
      "cell_type": "code",
      "source": [
        "model = MLP(input_dim= X_train.shape[1])\n",
        "criterion = nn.CrossEntropyLoss()\n",
        "optimizer = optim.Adam(model.parameters(), lr=0.001)\n",
        "\n",
        "# Training loop\n",
        "best_val_acc = 0.0\n",
        "train_losses, val_losses, val_accuracies = [], [], []\n",
        "\n",
        "for epoch in range(10):\n",
        "    model.train()\n",
        "    running_loss = 0.0\n",
        "    for batch_x, batch_y in train_loader:\n",
        "        optimizer.zero_grad()\n",
        "        outputs = model(batch_x)\n",
        "        loss = criterion(outputs, batch_y)\n",
        "        loss.backward()\n",
        "        optimizer.step()\n",
        "        running_loss += loss.item()\n",
        "    avg_train_loss = running_loss / len(train_loader)\n",
        "    train_losses.append(avg_train_loss)\n",
        "\n",
        "    # Validation\n",
        "    model.eval()\n",
        "    val_loss = 0.0\n",
        "    correct = 0\n",
        "    total = 0\n",
        "    with torch.no_grad():\n",
        "        for batch_x, batch_y in val_loader:\n",
        "            outputs = model(batch_x)\n",
        "            loss = criterion(outputs, batch_y)\n",
        "            val_loss += loss.item()\n",
        "            _, predicted = torch.max(outputs, 1)\n",
        "            correct += (predicted == batch_y).sum().item()\n",
        "            total += batch_y.size(0)\n",
        "    acc = 100 * correct / total\n",
        "    val_losses.append(val_loss / len(val_loader))\n",
        "    val_accuracies.append(acc)\n",
        "\n",
        "    print(f\"Epoch {epoch+1} | Train Loss: {avg_train_loss:.4f} | Val Loss: {val_loss:.4f} | Val Acc: {acc:.2f}%\")\n",
        "\n",
        "    # Save best model\n",
        "    if acc > best_val_acc:\n",
        "        best_val_acc = acc\n",
        "        torch.save(model.state_dict(), \"checkpoint.pt\")\n",
        "\n",
        "# Plot\n",
        "plt.figure(figsize=(12,5))\n",
        "plt.subplot(1,2,1)\n",
        "plt.plot(range(1, 11), val_accuracies, label=\"Val Accuracy\")\n",
        "plt.xlabel(\"Epoch\")\n",
        "plt.ylabel(\"Accuracy (%)\")\n",
        "plt.title(\"Validation Accuracy\")\n",
        "plt.grid(True)\n",
        "plt.subplot(1,2,2)\n",
        "plt.plot(range(1, 11), val_losses, label=\"Val Loss\", color='orange')\n",
        "plt.xlabel(\"Epoch\")\n",
        "plt.ylabel(\"Loss\")\n",
        "plt.title(\"Validation Loss\")\n",
        "plt.grid(True)\n",
        "plt.tight_layout()\n",
        "plt.show()"
      ],
      "metadata": {
        "colab": {
          "base_uri": "https://localhost:8080/",
          "height": 691
        },
        "id": "K3jMW-LSt7nk",
        "outputId": "3aff8ab7-7d5e-4e9b-a7bf-aed2f86acfbf"
      },
      "execution_count": 14,
      "outputs": [
        {
          "output_type": "stream",
          "name": "stdout",
          "text": [
            "Epoch 1 | Train Loss: 0.6101 | Val Loss: 10.4844 | Val Acc: 77.53%\n",
            "Epoch 2 | Train Loss: 0.2710 | Val Loss: 10.3750 | Val Acc: 79.48%\n",
            "Epoch 3 | Train Loss: 0.0789 | Val Loss: 16.5304 | Val Acc: 79.48%\n",
            "Epoch 4 | Train Loss: 0.0190 | Val Loss: 19.3950 | Val Acc: 79.55%\n",
            "Epoch 5 | Train Loss: 0.0058 | Val Loss: 28.1229 | Val Acc: 79.26%\n",
            "Epoch 6 | Train Loss: 0.0013 | Val Loss: 36.2932 | Val Acc: 79.55%\n",
            "Epoch 7 | Train Loss: 0.0015 | Val Loss: 37.6813 | Val Acc: 79.41%\n",
            "Epoch 8 | Train Loss: 0.0005 | Val Loss: 42.6691 | Val Acc: 79.84%\n",
            "Epoch 9 | Train Loss: 0.0002 | Val Loss: 45.3156 | Val Acc: 79.34%\n",
            "Epoch 10 | Train Loss: 0.0010 | Val Loss: 45.9735 | Val Acc: 79.41%\n"
          ]
        },
        {
          "output_type": "display_data",
          "data": {
            "text/plain": [
              "<Figure size 1200x500 with 2 Axes>"
            ],
            "image/png": "[encoded data removed]"
          },
          "metadata": {}
        }
      ]
    },
    {
      "cell_type": "code",
      "source": [
        "import time\n",
        "import os\n",
        "\n",
        "model_fp32 = MLP(input_dim=X_train.shape[1])\n",
        "model_fp32.load_state_dict(torch.load(\"checkpoint.pt\"))\n",
        "model_fp32.eval()\n",
        "\n",
        "\n",
        "torch.save(model_fp32.state_dict(), \"original_model.pt\")\n",
        "size_original_mb = os.path.getsize(\"original_model.pt\") / (1024 * 1024)\n",
        "\n",
        "# Inference\n",
        "X_val_tensor = torch.tensor(X_val, dtype=torch.float32)\n",
        "start = time.time()\n",
        "with torch.no_grad():\n",
        "    outputs = model_fp32(X_val_tensor)\n",
        "    preds = torch.argmax(outputs, dim=1)\n",
        "inference_time_ms = (time.time() - start) * 1000\n",
        "\n",
        "# Accuracy\n",
        "correct = (preds == torch.tensor(y_val)).sum().item()\n",
        "accuracy_fp32 = 100 * correct / len(y_val)\n",
        "\n",
        "print(\"Original Model Results:\")\n",
        "print(f\"Accuracy: {accuracy_fp32:.2f}%\")\n",
        "print(f\"Model Size: {size_original_mb:.2f} MB\")\n",
        "print(f\"Inference Time: {inference_time_ms:.2f} ms\")\n"
      ],
      "metadata": {
        "colab": {
          "base_uri": "https://localhost:8080/"
        },
        "id": "yG88OdnDuT3t",
        "outputId": "a401136e-b2e5-49b9-f515-bc1cd260b91f"
      },
      "execution_count": 18,
      "outputs": [
        {
          "output_type": "stream",
          "name": "stdout",
          "text": [
            "Original Model Results:\n",
            "Accuracy: 79.84%\n",
            "Model Size: 20.20 MB\n",
            "Inference Time: 136.51 ms\n"
          ]
        }
      ]
    },
    {
      "cell_type": "markdown",
      "source": [
        "### 4. Now use:\n",
        "  1. Dynamic Quantization with INT4 or INT8\n",
        "  1. Half precision"
      ],
      "metadata": {
        "id": "d06AtPVWuOFL"
      }
    },
    {
      "cell_type": "code",
      "source": [
        "model_fp32 = MLP(input_dim=X_train.shape[1])\n",
        "model_fp32.load_state_dict(torch.load(\"checkpoint.pt\"))\n",
        "model_fp32.eval()\n",
        "\n",
        "# Apply dynamic quantization (INT8, not INT4)\n",
        "model_dynamic = torch.quantization.quantize_dynamic(\n",
        "    model_fp32, {nn.Linear}, dtype=torch.qint8\n",
        ")\n",
        "\n",
        "torch.save(model_dynamic.state_dict(), \"dynamic_quantized.pt\")\n",
        "size_dynamic_mb = os.path.getsize(\"dynamic_quantized.pt\") / (1024 * 1024)\n",
        "\n",
        "# Inference\n",
        "X_val_tensor_q = torch.tensor(X_val, dtype=torch.float32)\n",
        "start = time.time()\n",
        "with torch.no_grad():\n",
        "    outputs = model_dynamic(X_val_tensor_q)\n",
        "    preds = torch.argmax(outputs, dim=1)\n",
        "inference_time_ms = (time.time() - start) * 1000\n",
        "\n",
        "# Accuracy\n",
        "correct = (preds == torch.tensor(y_val)).sum().item()\n",
        "accuracy = 100 * correct / len(y_val)\n",
        "\n",
        "print(\"Dynamic Quantization Results:\")\n",
        "print(f\"Accuracy: {accuracy:.2f}%\")\n",
        "print(f\"Model Size: {size_dynamic_mb:.2f} MB\")\n",
        "print(f\"Inference Time: {inference_time_ms:.2f} ms\")\n"
      ],
      "metadata": {
        "colab": {
          "base_uri": "https://localhost:8080/"
        },
        "id": "ISibpIMMu1kx",
        "outputId": "b1eb7416-cbd3-492b-97ad-63867d6a943c"
      },
      "execution_count": 19,
      "outputs": [
        {
          "output_type": "stream",
          "name": "stdout",
          "text": [
            "Dynamic Quantization Results:\n",
            "Accuracy: 80.06%\n",
            "Model Size: 5.06 MB\n",
            "Inference Time: 136.49 ms\n"
          ]
        }
      ]
    },
    {
      "cell_type": "code",
      "source": [
        "model_fp32 = MLP(input_dim=X_train.shape[1])\n",
        "model_fp32.load_state_dict(torch.load(\"checkpoint.pt\"))\n",
        "model_fp16 = model_fp32.half()\n",
        "model_fp16.eval()\n",
        "\n",
        "X_val_tensor_fp16 = torch.tensor(X_val, dtype=torch.float16)\n",
        "\n",
        "\n",
        "start = time.time()\n",
        "with torch.no_grad():\n",
        "    outputs = model_fp16(X_val_tensor_fp16)\n",
        "    preds = torch.argmax(outputs, dim=1)\n",
        "inference_time_fp16 = (time.time() - start) * 1000\n",
        "\n",
        "# Accuracy\n",
        "correct = (preds == torch.tensor(y_val)).sum().item()\n",
        "accuracy_fp16 = 100 * correct / len(y_val)\n",
        "\n",
        "torch.save(model_fp16.state_dict(), \"half_precision.pt\")\n",
        "size_fp16_mb = os.path.getsize(\"half_precision.pt\") / (1024 * 1024)\n",
        "\n",
        "print(\"Half Precision Results:\")\n",
        "print(f\"Accuracy: {accuracy_fp16:.2f}%\")\n",
        "print(f\"Model Size: {size_fp16_mb:.2f} MB\")\n",
        "print(f\"Inference Time: {inference_time_fp16:.2f} ms\")\n"
      ],
      "metadata": {
        "colab": {
          "base_uri": "https://localhost:8080/"
        },
        "id": "qBeXryWnvNrA",
        "outputId": "500c24aa-22b9-482d-f7bd-b33485951661"
      },
      "execution_count": 20,
      "outputs": [
        {
          "output_type": "stream",
          "name": "stdout",
          "text": [
            "Half Precision Results:\n",
            "Accuracy: 79.84%\n",
            "Model Size: 10.10 MB\n",
            "Inference Time: 1971.20 ms\n"
          ]
        }
      ]
    }
  ]
}